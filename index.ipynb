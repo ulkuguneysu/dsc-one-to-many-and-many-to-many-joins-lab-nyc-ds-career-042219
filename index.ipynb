{
 "cells": [
  {
   "cell_type": "markdown",
   "metadata": {},
   "source": [
    "# One-to-Many and Many-to-Many Joins - Lab"
   ]
  },
  {
   "cell_type": "markdown",
   "metadata": {},
   "source": [
    "## Introduction"
   ]
  },
  {
   "cell_type": "markdown",
   "metadata": {},
   "source": [
    "In this lab, you'll practice your knowledge on one-to-many and many-to-many relationships!"
   ]
  },
  {
   "cell_type": "markdown",
   "metadata": {},
   "source": [
    "## Objectives"
   ]
  },
  {
   "cell_type": "markdown",
   "metadata": {},
   "source": [
    "You will be able to:\n",
    "- Query data using one-to-many and many-to-many joins\n",
    "- Predict the resulting size of one-to-many and many-to-many joins"
   ]
  },
  {
   "cell_type": "markdown",
   "metadata": {},
   "source": [
    "## One-to-Many and Many-to-Many Joins\n",
    "<img src='images/Database-Schema.png' width=\"600\">"
   ]
  },
  {
   "cell_type": "code",
   "execution_count": 15,
   "metadata": {},
   "outputs": [
    {
     "ename": "SyntaxError",
     "evalue": "invalid syntax (<ipython-input-15-49e9e37ce38e>, line 1)",
     "output_type": "error",
     "traceback": [
      "\u001b[0;36m  File \u001b[0;32m\"<ipython-input-15-49e9e37ce38e>\"\u001b[0;36m, line \u001b[0;32m1\u001b[0m\n\u001b[0;31m    Return a list of customer first and last names, product names, quantities, and date ordered for each of the customers and each of their orders. Sort these in descending order by the order date.\u001b[0m\n\u001b[0m           ^\u001b[0m\n\u001b[0;31mSyntaxError\u001b[0m\u001b[0;31m:\u001b[0m invalid syntax\n"
     ]
    }
   ],
   "source": [
    "Return a list of customer first and last names, product names, \n",
    "quantities, and date ordered for each of the customers and each of \n",
    "their orders. Sort these in descending order by the order date.\n",
    "\n",
    "Note: This will require joining 4 tables! This can be tricky! \n",
    "    Give it a shot, and if you're still stuck, turn to the next section \n",
    "    where you'll see how to write subqueries which can make complex queries \n",
    "    such as this much simpler!"
   ]
  },
  {
   "cell_type": "code",
   "execution_count": 19,
   "metadata": {},
   "outputs": [
    {
     "name": "stdout",
     "output_type": "stream",
     "text": [
      "Number of results 2996\n"
     ]
    },
    {
     "data": {
      "text/html": [
       "<div>\n",
       "<style scoped>\n",
       "    .dataframe tbody tr th:only-of-type {\n",
       "        vertical-align: middle;\n",
       "    }\n",
       "\n",
       "    .dataframe tbody tr th {\n",
       "        vertical-align: top;\n",
       "    }\n",
       "\n",
       "    .dataframe thead th {\n",
       "        text-align: right;\n",
       "    }\n",
       "</style>\n",
       "<table border=\"1\" class=\"dataframe\">\n",
       "  <thead>\n",
       "    <tr style=\"text-align: right;\">\n",
       "      <th></th>\n",
       "      <th>contactFirstName</th>\n",
       "      <th>contactLastName</th>\n",
       "      <th>productName</th>\n",
       "      <th>quantityOrdered</th>\n",
       "      <th>orderDate</th>\n",
       "    </tr>\n",
       "  </thead>\n",
       "  <tbody>\n",
       "    <tr>\n",
       "      <th>0</th>\n",
       "      <td>Janine</td>\n",
       "      <td>Labrune</td>\n",
       "      <td>1962 LanciaA Delta 16V</td>\n",
       "      <td>38</td>\n",
       "      <td>2005-05-31</td>\n",
       "    </tr>\n",
       "    <tr>\n",
       "      <th>1</th>\n",
       "      <td>Janine</td>\n",
       "      <td>Labrune</td>\n",
       "      <td>1957 Chevy Pickup</td>\n",
       "      <td>33</td>\n",
       "      <td>2005-05-31</td>\n",
       "    </tr>\n",
       "    <tr>\n",
       "      <th>2</th>\n",
       "      <td>Janine</td>\n",
       "      <td>Labrune</td>\n",
       "      <td>1998 Chrysler Plymouth Prowler</td>\n",
       "      <td>28</td>\n",
       "      <td>2005-05-31</td>\n",
       "    </tr>\n",
       "    <tr>\n",
       "      <th>3</th>\n",
       "      <td>Janine</td>\n",
       "      <td>Labrune</td>\n",
       "      <td>1964 Mercedes Tour Bus</td>\n",
       "      <td>38</td>\n",
       "      <td>2005-05-31</td>\n",
       "    </tr>\n",
       "    <tr>\n",
       "      <th>4</th>\n",
       "      <td>Janine</td>\n",
       "      <td>Labrune</td>\n",
       "      <td>1926 Ford Fire Engine</td>\n",
       "      <td>19</td>\n",
       "      <td>2005-05-31</td>\n",
       "    </tr>\n",
       "  </tbody>\n",
       "</table>\n",
       "</div>"
      ],
      "text/plain": [
       "  contactFirstName contactLastName                     productName  \\\n",
       "0          Janine          Labrune          1962 LanciaA Delta 16V   \n",
       "1          Janine          Labrune               1957 Chevy Pickup   \n",
       "2          Janine          Labrune  1998 Chrysler Plymouth Prowler   \n",
       "3          Janine          Labrune          1964 Mercedes Tour Bus   \n",
       "4          Janine          Labrune           1926 Ford Fire Engine   \n",
       "\n",
       "  quantityOrdered   orderDate  \n",
       "0              38  2005-05-31  \n",
       "1              33  2005-05-31  \n",
       "2              28  2005-05-31  \n",
       "3              38  2005-05-31  \n",
       "4              19  2005-05-31  "
      ]
     },
     "execution_count": 19,
     "metadata": {},
     "output_type": "execute_result"
    }
   ],
   "source": [
    "c.execute(\"\"\"select contactFirstName, contactLastName, productName, \n",
    "            quantityOrdered, orderDate\n",
    "            from customers\n",
    "            join orders using(customerNumber)\n",
    "            join orderdetails using(orderNumber)\n",
    "            join products using(productCode)\n",
    "            \n",
    "            order by orderDate desc\"\"\")\n",
    "\n",
    "df = pd.DataFrame(c.fetchall())\n",
    "df.columns = [x[0] for x in c.description]\n",
    "print('Number of results', len(df))\n",
    "df.head()\n",
    "\n",
    "\n"
   ]
  },
  {
   "cell_type": "markdown",
   "metadata": {},
   "source": [
    "## Connect to the Database"
   ]
  },
  {
   "cell_type": "code",
   "execution_count": 2,
   "metadata": {},
   "outputs": [],
   "source": [
    "#Your code here\n",
    "import sqlite3\n",
    "import pandas as pd\n",
    "conn = sqlite3.connect('data.sqlite', detect_types=sqlite3.PARSE_COLNAMES)\n",
    "c = conn.cursor()"
   ]
  },
  {
   "cell_type": "markdown",
   "metadata": {},
   "source": [
    "## Employees and their Office (a One-to-One join)\n",
    "\n",
    "Return a list of all of the employees with their first name, last name and the city and state of the office that they work out of (if they have one). Include all employees and order them by their first name, then their last name."
   ]
  },
  {
   "cell_type": "code",
   "execution_count": 5,
   "metadata": {},
   "outputs": [
    {
     "name": "stdout",
     "output_type": "stream",
     "text": [
      "Number of results 23\n"
     ]
    },
    {
     "data": {
      "text/html": [
       "<div>\n",
       "<style scoped>\n",
       "    .dataframe tbody tr th:only-of-type {\n",
       "        vertical-align: middle;\n",
       "    }\n",
       "\n",
       "    .dataframe tbody tr th {\n",
       "        vertical-align: top;\n",
       "    }\n",
       "\n",
       "    .dataframe thead th {\n",
       "        text-align: right;\n",
       "    }\n",
       "</style>\n",
       "<table border=\"1\" class=\"dataframe\">\n",
       "  <thead>\n",
       "    <tr style=\"text-align: right;\">\n",
       "      <th></th>\n",
       "      <th>firstName</th>\n",
       "      <th>lastName</th>\n",
       "      <th>city</th>\n",
       "      <th>state</th>\n",
       "    </tr>\n",
       "  </thead>\n",
       "  <tbody>\n",
       "    <tr>\n",
       "      <th>0</th>\n",
       "      <td>Andy</td>\n",
       "      <td>Fixter</td>\n",
       "      <td>Sydney</td>\n",
       "      <td></td>\n",
       "    </tr>\n",
       "    <tr>\n",
       "      <th>1</th>\n",
       "      <td>Anthony</td>\n",
       "      <td>Bow</td>\n",
       "      <td>San Francisco</td>\n",
       "      <td>CA</td>\n",
       "    </tr>\n",
       "    <tr>\n",
       "      <th>2</th>\n",
       "      <td>Barry</td>\n",
       "      <td>Jones</td>\n",
       "      <td>London</td>\n",
       "      <td></td>\n",
       "    </tr>\n",
       "    <tr>\n",
       "      <th>3</th>\n",
       "      <td>Diane</td>\n",
       "      <td>Murphy</td>\n",
       "      <td>San Francisco</td>\n",
       "      <td>CA</td>\n",
       "    </tr>\n",
       "    <tr>\n",
       "      <th>4</th>\n",
       "      <td>Foon Yue</td>\n",
       "      <td>Tseng</td>\n",
       "      <td>NYC</td>\n",
       "      <td>NY</td>\n",
       "    </tr>\n",
       "  </tbody>\n",
       "</table>\n",
       "</div>"
      ],
      "text/plain": [
       "  firstName lastName           city state\n",
       "0      Andy   Fixter         Sydney      \n",
       "1   Anthony      Bow  San Francisco    CA\n",
       "2     Barry    Jones         London      \n",
       "3     Diane   Murphy  San Francisco    CA\n",
       "4  Foon Yue    Tseng            NYC    NY"
      ]
     },
     "execution_count": 5,
     "metadata": {},
     "output_type": "execute_result"
    }
   ],
   "source": [
    "#Your code here\n",
    "c.execute(\"\"\"select firstName, lastName, city, state \n",
    "                    from employees \n",
    "                    join offices using(officeCode) \n",
    "                    order by 1 asc;\"\"\")\n",
    "\n",
    "df = pd.DataFrame(c.fetchall())\n",
    "df.columns = [x[0] for x in c.description]\n",
    "print('Number of results', len(df))\n",
    "df.head()"
   ]
  },
  {
   "cell_type": "markdown",
   "metadata": {},
   "source": [
    "## Customers and their Orders (a One-to-Many join)\n",
    "\n",
    "Return a list of all the customers first and last names along with a record for each of their order numbers, order dates and statuses."
   ]
  },
  {
   "cell_type": "code",
   "execution_count": 9,
   "metadata": {},
   "outputs": [
    {
     "name": "stdout",
     "output_type": "stream",
     "text": [
      "Number of results 326\n"
     ]
    },
    {
     "data": {
      "text/html": [
       "<div>\n",
       "<style scoped>\n",
       "    .dataframe tbody tr th:only-of-type {\n",
       "        vertical-align: middle;\n",
       "    }\n",
       "\n",
       "    .dataframe tbody tr th {\n",
       "        vertical-align: top;\n",
       "    }\n",
       "\n",
       "    .dataframe thead th {\n",
       "        text-align: right;\n",
       "    }\n",
       "</style>\n",
       "<table border=\"1\" class=\"dataframe\">\n",
       "  <thead>\n",
       "    <tr style=\"text-align: right;\">\n",
       "      <th></th>\n",
       "      <th>contactFirstName</th>\n",
       "      <th>contactLastName</th>\n",
       "      <th>orderNumber</th>\n",
       "      <th>orderDate</th>\n",
       "      <th>status</th>\n",
       "    </tr>\n",
       "  </thead>\n",
       "  <tbody>\n",
       "    <tr>\n",
       "      <th>0</th>\n",
       "      <td>Carine</td>\n",
       "      <td>Schmitt</td>\n",
       "      <td>10123</td>\n",
       "      <td>2003-05-20</td>\n",
       "      <td>Shipped</td>\n",
       "    </tr>\n",
       "    <tr>\n",
       "      <th>1</th>\n",
       "      <td>Carine</td>\n",
       "      <td>Schmitt</td>\n",
       "      <td>10298</td>\n",
       "      <td>2004-09-27</td>\n",
       "      <td>Shipped</td>\n",
       "    </tr>\n",
       "    <tr>\n",
       "      <th>2</th>\n",
       "      <td>Carine</td>\n",
       "      <td>Schmitt</td>\n",
       "      <td>10345</td>\n",
       "      <td>2004-11-25</td>\n",
       "      <td>Shipped</td>\n",
       "    </tr>\n",
       "    <tr>\n",
       "      <th>3</th>\n",
       "      <td>Jean</td>\n",
       "      <td>King</td>\n",
       "      <td>10124</td>\n",
       "      <td>2003-05-21</td>\n",
       "      <td>Shipped</td>\n",
       "    </tr>\n",
       "    <tr>\n",
       "      <th>4</th>\n",
       "      <td>Jean</td>\n",
       "      <td>King</td>\n",
       "      <td>10278</td>\n",
       "      <td>2004-08-06</td>\n",
       "      <td>Shipped</td>\n",
       "    </tr>\n",
       "  </tbody>\n",
       "</table>\n",
       "</div>"
      ],
      "text/plain": [
       "  contactFirstName contactLastName orderNumber   orderDate   status\n",
       "0          Carine          Schmitt       10123  2003-05-20  Shipped\n",
       "1          Carine          Schmitt       10298  2004-09-27  Shipped\n",
       "2          Carine          Schmitt       10345  2004-11-25  Shipped\n",
       "3             Jean            King       10124  2003-05-21  Shipped\n",
       "4             Jean            King       10278  2004-08-06  Shipped"
      ]
     },
     "execution_count": 9,
     "metadata": {},
     "output_type": "execute_result"
    }
   ],
   "source": [
    "# Your code here\n",
    "c.execute(\"\"\"select contactFirstName, contactLastName, orderNumber, orderDate, status \n",
    "            from customers\n",
    "            join orders \n",
    "            using(customerNumber)\"\"\")\n",
    "df = pd.DataFrame(c.fetchall())\n",
    "df.columns = [x[0] for x in c.description]\n",
    "print('Number of results', len(df))\n",
    "df.head()"
   ]
  },
  {
   "cell_type": "markdown",
   "metadata": {},
   "source": [
    "## Customers and their Payments (another One-to-Many join)\n",
    "\n",
    "Return a list of customers first and last names along with details about their payments including the amount and date of payments. Sort these results in descending order by the payment amount."
   ]
  },
  {
   "cell_type": "code",
   "execution_count": 14,
   "metadata": {},
   "outputs": [
    {
     "name": "stdout",
     "output_type": "stream",
     "text": [
      "273\n"
     ]
    },
    {
     "data": {
      "text/html": [
       "<div>\n",
       "<style scoped>\n",
       "    .dataframe tbody tr th:only-of-type {\n",
       "        vertical-align: middle;\n",
       "    }\n",
       "\n",
       "    .dataframe tbody tr th {\n",
       "        vertical-align: top;\n",
       "    }\n",
       "\n",
       "    .dataframe thead th {\n",
       "        text-align: right;\n",
       "    }\n",
       "</style>\n",
       "<table border=\"1\" class=\"dataframe\">\n",
       "  <thead>\n",
       "    <tr style=\"text-align: right;\">\n",
       "      <th></th>\n",
       "      <th>contactFirstName</th>\n",
       "      <th>contactLastName</th>\n",
       "      <th>paymentDate</th>\n",
       "      <th>amount</th>\n",
       "    </tr>\n",
       "  </thead>\n",
       "  <tbody>\n",
       "    <tr>\n",
       "      <th>0</th>\n",
       "      <td>Violeta</td>\n",
       "      <td>Benitez</td>\n",
       "      <td>2003-11-08</td>\n",
       "      <td>9977.85</td>\n",
       "    </tr>\n",
       "    <tr>\n",
       "      <th>1</th>\n",
       "      <td>Ben</td>\n",
       "      <td>Calaghan</td>\n",
       "      <td>2003-10-17</td>\n",
       "      <td>9821.32</td>\n",
       "    </tr>\n",
       "    <tr>\n",
       "      <th>2</th>\n",
       "      <td>Leslie</td>\n",
       "      <td>Taylor</td>\n",
       "      <td>2004-12-06</td>\n",
       "      <td>9658.74</td>\n",
       "    </tr>\n",
       "    <tr>\n",
       "      <th>3</th>\n",
       "      <td>Sean</td>\n",
       "      <td>Clenahan</td>\n",
       "      <td>2004-07-28</td>\n",
       "      <td>9415.13</td>\n",
       "    </tr>\n",
       "    <tr>\n",
       "      <th>4</th>\n",
       "      <td>Roland</td>\n",
       "      <td>Mendel</td>\n",
       "      <td>2005-05-03</td>\n",
       "      <td>8807.12</td>\n",
       "    </tr>\n",
       "  </tbody>\n",
       "</table>\n",
       "</div>"
      ],
      "text/plain": [
       "  contactFirstName contactLastName paymentDate   amount\n",
       "0          Violeta         Benitez  2003-11-08  9977.85\n",
       "1              Ben        Calaghan  2003-10-17  9821.32\n",
       "2           Leslie          Taylor  2004-12-06  9658.74\n",
       "3             Sean        Clenahan  2004-07-28  9415.13\n",
       "4          Roland           Mendel  2005-05-03  8807.12"
      ]
     },
     "execution_count": 14,
     "metadata": {},
     "output_type": "execute_result"
    }
   ],
   "source": [
    "# Your code here\n",
    "c.execute(\"\"\"select contactFirstName, contactLastName, paymentDate, amount\n",
    "                from customers\n",
    "                join payments\n",
    "                using(customerNumber)\n",
    "                order by amount desc;\"\"\")\n",
    "df = pd.DataFrame(c.fetchall())\n",
    "df.columns = [x[0] for x in c.description]\n",
    "print(len(df))\n",
    "df.head()"
   ]
  },
  {
   "cell_type": "markdown",
   "metadata": {},
   "source": [
    "## Orders, Order details and Product Details (a Many-to-Many Join)"
   ]
  },
  {
   "cell_type": "markdown",
   "metadata": {},
   "source": [
    "Return a list of customer first and last names, product names, quantities, and date ordered for each of the customers and each of their orders. Sort these in descending order by the order date.\n",
    "\n",
    "Note: This will require joining 4 tables! This can be tricky! Give it a shot, and if you're still stuck, turn to the next section where you'll see how to write subqueries which can make complex queries such as this much simpler!"
   ]
  },
  {
   "cell_type": "code",
   "execution_count": 4,
   "metadata": {},
   "outputs": [],
   "source": [
    "# Your code here"
   ]
  },
  {
   "cell_type": "markdown",
   "metadata": {},
   "source": [
    "## Summary"
   ]
  },
  {
   "cell_type": "markdown",
   "metadata": {},
   "source": [
    "In this lab, you practiced your knowledge on one-to-many and many-to-many relationships!"
   ]
  }
 ],
 "metadata": {
  "kernelspec": {
   "display_name": "Python 3",
   "language": "python",
   "name": "python3"
  },
  "language_info": {
   "codemirror_mode": {
    "name": "ipython",
    "version": 3
   },
   "file_extension": ".py",
   "mimetype": "text/x-python",
   "name": "python",
   "nbconvert_exporter": "python",
   "pygments_lexer": "ipython3",
   "version": "3.6.6"
  }
 },
 "nbformat": 4,
 "nbformat_minor": 2
}
